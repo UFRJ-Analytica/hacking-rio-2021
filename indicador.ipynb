{
 "cells": [
  {
   "cell_type": "code",
   "execution_count": 30,
   "metadata": {},
   "outputs": [],
   "source": [
    "import pandas as pd\n",
    "import matplotlib.pyplot as plt\n",
    "import seaborn as sns\n",
    "import sqlalchemy as sql\n",
    "import numpy as np\n",
    "from sklearn.preprocessing import MinMaxScaler"
   ]
  },
  {
   "cell_type": "code",
   "execution_count": 31,
   "metadata": {},
   "outputs": [],
   "source": [
    "df_desmatamento = pd.read_csv('backend/data/desmatamento_ucs.csv', sep=\";\", encoding = 'latin-1')\n",
    "df_queimadas = pd.read_csv('backend/data/areas_queimadas_uc.csv', sep=\";\", encoding = 'latin-1')\n",
    "df_metricas = pd.read_csv('backend/data/metricas_acoes_ucs_tratado.csv', sep=\";\", encoding = 'latin-1')\n",
    "df_metereologicos = pd.read_csv('backend/data/dados_metereologicos.csv', sep=\",\", encoding = 'utf-8')"
   ]
  },
  {
   "cell_type": "code",
   "execution_count": 32,
   "metadata": {},
   "outputs": [],
   "source": [
    "# df_metricas.merge(df_desmatamento, how=\"left\", left_on=\"cnuc\", right_on=\"codigo_da_uc\")[\"2008\"].count()\n"
   ]
  },
  {
   "cell_type": "code",
   "execution_count": 33,
   "metadata": {},
   "outputs": [
    {
     "data": {
      "text/html": [
       "<div>\n",
       "<style scoped>\n",
       "    .dataframe tbody tr th:only-of-type {\n",
       "        vertical-align: middle;\n",
       "    }\n",
       "\n",
       "    .dataframe tbody tr th {\n",
       "        vertical-align: top;\n",
       "    }\n",
       "\n",
       "    .dataframe thead th {\n",
       "        text-align: right;\n",
       "    }\n",
       "</style>\n",
       "<table border=\"1\" class=\"dataframe\">\n",
       "  <thead>\n",
       "    <tr style=\"text-align: right;\">\n",
       "      <th></th>\n",
       "      <th>nome_da_uc_x</th>\n",
       "      <th>nota_pessoal_mean</th>\n",
       "      <th>nota_pessoal_std</th>\n",
       "      <th>nota_equipamento_mean</th>\n",
       "      <th>nota_equipamento_std</th>\n",
       "      <th>nota_capacidade_mean</th>\n",
       "      <th>nota_capacidade_std</th>\n",
       "      <th>nota_recurso_mean</th>\n",
       "      <th>nota_recurso_std</th>\n",
       "      <th>nota_apoio_mean</th>\n",
       "      <th>...</th>\n",
       "      <th>area_estimada_da_uc_(ha)</th>\n",
       "      <th>bioma</th>\n",
       "      <th>area_queimada_em_2019</th>\n",
       "      <th>area_queimada_em_2018</th>\n",
       "      <th>area_queimada_em_2017</th>\n",
       "      <th>area_queimada_em_2016</th>\n",
       "      <th>area_queimada_em_2015</th>\n",
       "      <th>area_queimada_em_2014</th>\n",
       "      <th>area_queimada_em_2013</th>\n",
       "      <th>area_queimada_em_2012</th>\n",
       "    </tr>\n",
       "  </thead>\n",
       "  <tbody>\n",
       "    <tr>\n",
       "      <th>0</th>\n",
       "      <td>AREA DE PROTECAO AMBIENTAL CARSTE DA LAGOA SANTA</td>\n",
       "      <td>0.6000</td>\n",
       "      <td>0.210819</td>\n",
       "      <td>0.825000</td>\n",
       "      <td>0.205818</td>\n",
       "      <td>0.975000</td>\n",
       "      <td>0.079057</td>\n",
       "      <td>0.700000</td>\n",
       "      <td>0.307318</td>\n",
       "      <td>0.175000</td>\n",
       "      <td>...</td>\n",
       "      <td>39957</td>\n",
       "      <td>CERRADO</td>\n",
       "      <td>NaN</td>\n",
       "      <td>NaN</td>\n",
       "      <td>NaN</td>\n",
       "      <td>NaN</td>\n",
       "      <td>NaN</td>\n",
       "      <td>NaN</td>\n",
       "      <td>NaN</td>\n",
       "      <td>NaN</td>\n",
       "    </tr>\n",
       "    <tr>\n",
       "      <th>1</th>\n",
       "      <td>AREA DE PROTECAO AMBIENTAL CAVERNAS DO PERUACU</td>\n",
       "      <td>0.2875</td>\n",
       "      <td>0.091587</td>\n",
       "      <td>0.637500</td>\n",
       "      <td>0.189789</td>\n",
       "      <td>0.675000</td>\n",
       "      <td>0.200329</td>\n",
       "      <td>0.312500</td>\n",
       "      <td>0.267481</td>\n",
       "      <td>0.375000</td>\n",
       "      <td>...</td>\n",
       "      <td>143356</td>\n",
       "      <td>CERRADO</td>\n",
       "      <td>NaN</td>\n",
       "      <td>NaN</td>\n",
       "      <td>260.7</td>\n",
       "      <td>NaN</td>\n",
       "      <td>NaN</td>\n",
       "      <td>NaN</td>\n",
       "      <td>NaN</td>\n",
       "      <td>NaN</td>\n",
       "    </tr>\n",
       "    <tr>\n",
       "      <th>2</th>\n",
       "      <td>AREA DE PROTECAO AMBIENTAL DA BACIA DO RIO DES...</td>\n",
       "      <td>0.3125</td>\n",
       "      <td>0.155395</td>\n",
       "      <td>0.708333</td>\n",
       "      <td>0.097312</td>\n",
       "      <td>0.708333</td>\n",
       "      <td>0.144338</td>\n",
       "      <td>0.479167</td>\n",
       "      <td>0.270906</td>\n",
       "      <td>0.541667</td>\n",
       "      <td>...</td>\n",
       "      <td>41784</td>\n",
       "      <td>CERRADO</td>\n",
       "      <td>NaN</td>\n",
       "      <td>NaN</td>\n",
       "      <td>1585.4</td>\n",
       "      <td>NaN</td>\n",
       "      <td>NaN</td>\n",
       "      <td>NaN</td>\n",
       "      <td>NaN</td>\n",
       "      <td>NaN</td>\n",
       "    </tr>\n",
       "  </tbody>\n",
       "</table>\n",
       "<p>3 rows × 62 columns</p>\n",
       "</div>"
      ],
      "text/plain": [
       "                                        nome_da_uc_x  nota_pessoal_mean  \\\n",
       "0   AREA DE PROTECAO AMBIENTAL CARSTE DA LAGOA SANTA             0.6000   \n",
       "1     AREA DE PROTECAO AMBIENTAL CAVERNAS DO PERUACU             0.2875   \n",
       "2  AREA DE PROTECAO AMBIENTAL DA BACIA DO RIO DES...             0.3125   \n",
       "\n",
       "   nota_pessoal_std  nota_equipamento_mean  nota_equipamento_std  \\\n",
       "0          0.210819               0.825000              0.205818   \n",
       "1          0.091587               0.637500              0.189789   \n",
       "2          0.155395               0.708333              0.097312   \n",
       "\n",
       "   nota_capacidade_mean  nota_capacidade_std  nota_recurso_mean  \\\n",
       "0              0.975000             0.079057           0.700000   \n",
       "1              0.675000             0.200329           0.312500   \n",
       "2              0.708333             0.144338           0.479167   \n",
       "\n",
       "   nota_recurso_std  nota_apoio_mean  ...  area_estimada_da_uc_(ha)    bioma  \\\n",
       "0          0.307318         0.175000  ...                     39957  CERRADO   \n",
       "1          0.267481         0.375000  ...                    143356  CERRADO   \n",
       "2          0.270906         0.541667  ...                     41784  CERRADO   \n",
       "\n",
       "  area_queimada_em_2019  area_queimada_em_2018  area_queimada_em_2017  \\\n",
       "0                   NaN                    NaN                    NaN   \n",
       "1                   NaN                    NaN                  260.7   \n",
       "2                   NaN                    NaN                 1585.4   \n",
       "\n",
       "   area_queimada_em_2016 area_queimada_em_2015 area_queimada_em_2014  \\\n",
       "0                    NaN                   NaN                   NaN   \n",
       "1                    NaN                   NaN                   NaN   \n",
       "2                    NaN                   NaN                   NaN   \n",
       "\n",
       "  area_queimada_em_2013  area_queimada_em_2012  \n",
       "0                   NaN                    NaN  \n",
       "1                   NaN                    NaN  \n",
       "2                   NaN                    NaN  \n",
       "\n",
       "[3 rows x 62 columns]"
      ]
     },
     "execution_count": 33,
     "metadata": {},
     "output_type": "execute_result"
    }
   ],
   "source": [
    "df_compilado = df_metricas.merge(df_desmatamento, left_on=\"cnuc\", right_on=\"codigo_da_uc\").merge(df_queimadas, left_on=\"cnuc\", right_on=\"codigo_cnuc\")\n",
    "df_compilado.head(3)"
   ]
  },
  {
   "cell_type": "code",
   "execution_count": 34,
   "metadata": {},
   "outputs": [
    {
     "data": {
      "text/plain": [
       "Index(['nome_da_uc_x', 'nota_pessoal_mean', 'nota_pessoal_std',\n",
       "       'nota_equipamento_mean', 'nota_equipamento_std', 'nota_capacidade_mean',\n",
       "       'nota_capacidade_std', 'nota_recurso_mean', 'nota_recurso_std',\n",
       "       'nota_apoio_mean', 'nota_apoio_std', 'cnuc', 'bioma_x',\n",
       "       'calculo_efetividade_mean', 'calculo_efetividade_std', 'Unnamed: 0_x',\n",
       "       'codigo_da_uc', 'nome_da_uc_y', 'grupo', 'criacao', 'area_geo',\n",
       "       'bioma_y', '2020', '2019', '2018', '2017', '2016', '2015', '2014',\n",
       "       '2013', '2012', '2011', '2010', '2009', '2008', '2007', '2006', '2005',\n",
       "       '2004', '2003', '2002', '2001', '2000', 'acum 1997', 'Unnamed: 0_y',\n",
       "       'codigo_cnuc', 'nome_da_uc', 'categoria_da_uc:_sigla_federal',\n",
       "       'categoria_da_uc:_nomenclatura_nacional', 'grupo_de_protecao',\n",
       "       'ano_de_criacao', 'coordenacao_regional_do_icmbio',\n",
       "       'area_estimada_da_uc_(ha)', 'bioma', 'area_queimada_em_2019',\n",
       "       'area_queimada_em_2018', 'area_queimada_em_2017',\n",
       "       'area_queimada_em_2016', 'area_queimada_em_2015',\n",
       "       'area_queimada_em_2014', 'area_queimada_em_2013',\n",
       "       'area_queimada_em_2012'],\n",
       "      dtype='object')"
      ]
     },
     "execution_count": 34,
     "metadata": {},
     "output_type": "execute_result"
    }
   ],
   "source": [
    "df_compilado.columns"
   ]
  },
  {
   "cell_type": "code",
   "execution_count": 35,
   "metadata": {},
   "outputs": [
    {
     "data": {
      "image/png": "[encoded data removed]",
      "text/plain": [
       "<Figure size 432x288 with 1 Axes>"
      ]
     },
     "metadata": {
      "needs_background": "light"
     },
     "output_type": "display_data"
    }
   ],
   "source": [
    "plt.scatter(df_compilado[\"area_queimada_em_2016\"], df_compilado[\"nota_pessoal_mean\"], alpha=0.5)\n",
    "plt.xlim([0, 20000])\n",
    "plt.show()"
   ]
  },
  {
   "cell_type": "code",
   "execution_count": 36,
   "metadata": {},
   "outputs": [],
   "source": [
    "scaler = MinMaxScaler()\n",
    "\n",
    "indicador_de_necessidade = np.array((df_compilado[\"2020\"])/(df_compilado[\"nota_pessoal_mean\"] + 1))\n",
    "indicador_de_necessidade_min_max = scaler.fit_transform(indicador_de_necessidade.reshape(-1,1))"
   ]
  },
  {
   "cell_type": "code",
   "execution_count": 37,
   "metadata": {},
   "outputs": [
    {
     "data": {
      "text/plain": [
       "array([[8.00279155e-04],\n",
       "       [2.67150285e-03],\n",
       "       [1.69025818e-03],\n",
       "       [8.10587090e-03],\n",
       "       [8.17737668e-02],\n",
       "       [5.24035681e-02],\n",
       "       [2.52027366e-03],\n",
       "       [4.80135565e-02],\n",
       "       [5.97134020e-01],\n",
       "       [           nan],\n",
       "       [4.38038820e-02],\n",
       "       [6.50569708e-03],\n",
       "       [9.22258626e-03],\n",
       "       [4.99704059e-02],\n",
       "       [           nan],\n",
       "       [           nan],\n",
       "       [           nan],\n",
       "       [           nan],\n",
       "       [6.21639251e-03],\n",
       "       [5.02477235e-03],\n",
       "       [1.52516640e-01],\n",
       "       [           nan],\n",
       "       [8.33463418e-04],\n",
       "       [           nan],\n",
       "       [           nan],\n",
       "       [           nan],\n",
       "       [8.42337003e-05],\n",
       "       [           nan],\n",
       "       [1.50794757e-03],\n",
       "       [1.55474370e-03],\n",
       "       [4.76644065e-01],\n",
       "       [           nan],\n",
       "       [4.51011855e-03],\n",
       "       [1.07386802e-01],\n",
       "       [           nan],\n",
       "       [           nan],\n",
       "       [1.25072130e-02],\n",
       "       [9.95814189e-03],\n",
       "       [           nan],\n",
       "       [1.14739542e-02],\n",
       "       [9.01151769e-03],\n",
       "       [1.00990659e-01],\n",
       "       [9.08275572e-03],\n",
       "       [5.72383626e-04],\n",
       "       [           nan],\n",
       "       [2.75750202e-03],\n",
       "       [1.35012533e-03],\n",
       "       [           nan],\n",
       "       [           nan],\n",
       "       [7.44075591e-03],\n",
       "       [2.20673869e-02],\n",
       "       [6.40841082e-03],\n",
       "       [           nan],\n",
       "       [4.37188042e-02],\n",
       "       [           nan],\n",
       "       [4.13671771e-04],\n",
       "       [1.40155177e-02],\n",
       "       [3.74561101e-02],\n",
       "       [1.45088431e-02],\n",
       "       [7.33366793e-02],\n",
       "       [4.06021365e-03],\n",
       "       [9.81724213e-03],\n",
       "       [2.38648464e-02],\n",
       "       [4.21665377e-03],\n",
       "       [1.00000000e+00],\n",
       "       [7.16393683e-03],\n",
       "       [1.69049038e-02],\n",
       "       [5.35880308e-03],\n",
       "       [1.52638635e-02],\n",
       "       [           nan],\n",
       "       [1.88433130e-03],\n",
       "       [           nan],\n",
       "       [1.60639287e-02],\n",
       "       [           nan],\n",
       "       [           nan],\n",
       "       [4.51325756e-02],\n",
       "       [7.19426190e-03],\n",
       "       [           nan],\n",
       "       [1.05560957e-02],\n",
       "       [1.78358191e-04],\n",
       "       [           nan],\n",
       "       [           nan],\n",
       "       [4.42479014e-03],\n",
       "       [1.88437239e-02],\n",
       "       [7.80127572e-03],\n",
       "       [           nan],\n",
       "       [7.43723327e-02],\n",
       "       [2.92388382e-03],\n",
       "       [2.82187095e-03],\n",
       "       [3.30964238e-04],\n",
       "       [7.06778929e-04],\n",
       "       [7.49526255e-03],\n",
       "       [4.60822920e-02],\n",
       "       [           nan],\n",
       "       [2.10807389e-03],\n",
       "       [           nan],\n",
       "       [1.91930123e-02],\n",
       "       [9.60733336e-04],\n",
       "       [           nan],\n",
       "       [1.79524663e-03],\n",
       "       [           nan],\n",
       "       [           nan],\n",
       "       [           nan],\n",
       "       [5.26507129e-04],\n",
       "       [           nan],\n",
       "       [2.86881892e-02],\n",
       "       [           nan],\n",
       "       [           nan],\n",
       "       [5.87133561e-04],\n",
       "       [5.92787148e-04],\n",
       "       [           nan],\n",
       "       [           nan],\n",
       "       [2.30752445e-01],\n",
       "       [           nan],\n",
       "       [1.96756329e-01],\n",
       "       [           nan],\n",
       "       [2.50301422e-02],\n",
       "       [7.40608414e-03],\n",
       "       [1.17552043e-03],\n",
       "       [           nan],\n",
       "       [4.77030028e-03],\n",
       "       [           nan],\n",
       "       [3.18330496e-03],\n",
       "       [6.29778130e-01],\n",
       "       [           nan],\n",
       "       [5.03007408e-02],\n",
       "       [7.93158888e-04],\n",
       "       [           nan],\n",
       "       [1.33628406e-02],\n",
       "       [           nan],\n",
       "       [7.73490181e-03],\n",
       "       [2.10312708e-04],\n",
       "       [0.00000000e+00],\n",
       "       [2.29214527e-03],\n",
       "       [6.98316221e-02],\n",
       "       [           nan],\n",
       "       [7.91582883e-04],\n",
       "       [5.84544844e-04],\n",
       "       [           nan],\n",
       "       [           nan],\n",
       "       [           nan],\n",
       "       [3.42824699e-03],\n",
       "       [           nan],\n",
       "       [           nan],\n",
       "       [           nan],\n",
       "       [           nan],\n",
       "       [           nan],\n",
       "       [1.77552629e-04],\n",
       "       [5.37633587e-03],\n",
       "       [3.85494688e-02],\n",
       "       [8.27239640e-03],\n",
       "       [6.36274757e-04],\n",
       "       [1.18613824e-02],\n",
       "       [           nan],\n",
       "       [3.15627910e-02],\n",
       "       [2.06641960e-02],\n",
       "       [           nan],\n",
       "       [3.89206975e-03],\n",
       "       [6.00462308e-03],\n",
       "       [8.07906770e-02]])"
      ]
     },
     "execution_count": 37,
     "metadata": {},
     "output_type": "execute_result"
    }
   ],
   "source": [
    "indicador_de_necessidade_min_max"
   ]
  },
  {
   "cell_type": "code",
   "execution_count": 38,
   "metadata": {},
   "outputs": [
    {
     "data": {
      "text/plain": [
       "array([8.00279155e-04, 2.67150285e-03, 1.69025818e-03, 8.10587090e-03,\n",
       "       8.17737668e-02, 5.24035681e-02, 2.52027366e-03, 4.80135565e-02,\n",
       "       5.97134020e-01, 4.38038820e-02, 6.50569708e-03, 9.22258626e-03,\n",
       "       4.99704059e-02, 6.21639251e-03, 5.02477235e-03, 1.52516640e-01,\n",
       "       8.33463418e-04, 8.42337003e-05, 1.50794757e-03, 1.55474370e-03,\n",
       "       4.76644065e-01, 4.51011855e-03, 1.07386802e-01, 1.25072130e-02,\n",
       "       9.95814189e-03, 1.14739542e-02, 9.01151769e-03, 1.00990659e-01,\n",
       "       9.08275572e-03, 5.72383626e-04, 2.75750202e-03, 1.35012533e-03,\n",
       "       7.44075591e-03, 2.20673869e-02, 6.40841082e-03, 4.37188042e-02,\n",
       "       4.13671771e-04, 1.40155177e-02, 3.74561101e-02, 1.45088431e-02,\n",
       "       7.33366793e-02, 4.06021365e-03, 9.81724213e-03, 2.38648464e-02,\n",
       "       4.21665377e-03, 1.00000000e+00, 7.16393683e-03, 1.69049038e-02,\n",
       "       5.35880308e-03, 1.52638635e-02, 1.88433130e-03, 1.60639287e-02,\n",
       "       4.51325756e-02, 7.19426190e-03, 1.05560957e-02, 1.78358191e-04,\n",
       "       4.42479014e-03, 1.88437239e-02, 7.80127572e-03, 7.43723327e-02,\n",
       "       2.92388382e-03, 2.82187095e-03, 3.30964238e-04, 7.06778929e-04,\n",
       "       7.49526255e-03, 4.60822920e-02, 2.10807389e-03, 1.91930123e-02,\n",
       "       9.60733336e-04, 1.79524663e-03, 5.26507129e-04, 2.86881892e-02,\n",
       "       5.87133561e-04, 5.92787148e-04, 2.30752445e-01, 1.96756329e-01,\n",
       "       2.50301422e-02, 7.40608414e-03, 1.17552043e-03, 4.77030028e-03,\n",
       "       3.18330496e-03, 6.29778130e-01, 5.03007408e-02, 7.93158888e-04,\n",
       "       1.33628406e-02, 7.73490181e-03, 2.10312708e-04, 0.00000000e+00,\n",
       "       2.29214527e-03, 6.98316221e-02, 7.91582883e-04, 5.84544844e-04,\n",
       "       3.42824699e-03, 1.77552629e-04, 5.37633587e-03, 3.85494688e-02,\n",
       "       8.27239640e-03, 6.36274757e-04, 1.18613824e-02, 3.15627910e-02,\n",
       "       2.06641960e-02, 3.89206975e-03, 6.00462308e-03, 8.07906770e-02])"
      ]
     },
     "execution_count": 38,
     "metadata": {},
     "output_type": "execute_result"
    }
   ],
   "source": [
    "falso_positivo_min_max[~np.isnan(falso_positivo_min_max)]"
   ]
  },
  {
   "cell_type": "code",
   "execution_count": 39,
   "metadata": {},
   "outputs": [],
   "source": [
    "df_compilado['indicador_de_necessidade_min_max'] = indicador_de_necessidade_min_max"
   ]
  },
  {
   "cell_type": "code",
   "execution_count": 43,
   "metadata": {},
   "outputs": [
    {
     "data": {
      "text/plain": [
       "0      0.000800\n",
       "1      0.002672\n",
       "2      0.001690\n",
       "3      0.008106\n",
       "4      0.081774\n",
       "         ...   \n",
       "155    0.020664\n",
       "156   -1.000000\n",
       "157    0.003892\n",
       "158    0.006005\n",
       "159    0.080791\n",
       "Name: indicador_de_necessidade_min_max, Length: 160, dtype: float64"
      ]
     },
     "execution_count": 43,
     "metadata": {},
     "output_type": "execute_result"
    }
   ],
   "source": [
    "df_compilado['indicador_de_necessidade_min_max'] = df_compilado['indicador_de_necessidade_min_max'].fillna(-1)\n",
    "df_compilado['indicador_de_necessidade_min_max']"
   ]
  },
  {
   "cell_type": "code",
   "execution_count": 45,
   "metadata": {},
   "outputs": [],
   "source": [
    "df_indicadores = df_compilado.sort_values(by='indicador_de_necessidade_min_max', ascending=False)[['codigo_da_uc','nome_da_uc','indicador_de_necessidade_min_max']].reset_index(drop=True)"
   ]
  },
  {
   "cell_type": "code",
   "execution_count": 62,
   "metadata": {},
   "outputs": [],
   "source": [
    "df_indicadores.to_csv('./backend/data/indicadores_min_max_ucs.csv', sep=';', index=False)"
   ]
  },
  {
   "cell_type": "code",
   "execution_count": 20,
   "metadata": {},
   "outputs": [],
   "source": [
    "# engine = sql.create_engine('sqlite:///backend/data/database.db', echo=False)"
   ]
  },
  {
   "cell_type": "code",
   "execution_count": 21,
   "metadata": {},
   "outputs": [],
   "source": [
    "# query = f\"\"\"\n",
    "#     SELECT \n",
    "#         nome_da_uc, nota_pessoal_mean\n",
    "#     FROM metricas_acoes_ucs_tratado \n",
    "# \"\"\""
   ]
  },
  {
   "cell_type": "code",
   "execution_count": 22,
   "metadata": {},
   "outputs": [],
   "source": [
    "# ucs = []\n",
    "# nota_pessoal = []\n",
    "\n",
    "# with engine.connect() as connection:\n",
    "#     result = connection.execute(query)\n",
    "#     print(result)\n",
    "#     table_keys = result.keys()\n",
    "#     for row in result:\n",
    "#         ucs.append(row[0]) \n",
    "#         nota_pessoal.append(row[1])\n"
   ]
  },
  {
   "cell_type": "code",
   "execution_count": 23,
   "metadata": {},
   "outputs": [],
   "source": [
    "# df = sql.create_engine('sqlite:///backend/data/database.db', echo=False)"
   ]
  }
 ],
 "metadata": {
  "kernelspec": {
   "display_name": "Python 3",
   "language": "python",
   "name": "python3"
  },
  "language_info": {
   "codemirror_mode": {
    "name": "ipython",
    "version": 3
   },
   "file_extension": ".py",
   "mimetype": "text/x-python",
   "name": "python",
   "nbconvert_exporter": "python",
   "pygments_lexer": "ipython3",
   "version": "3.8.5"
  }
 },
 "nbformat": 4,
 "nbformat_minor": 4
}
