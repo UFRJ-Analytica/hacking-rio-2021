{
 "cells": [
  {
   "cell_type": "code",
   "execution_count": 16,
   "metadata": {},
   "outputs": [],
   "source": [
    "import pandas as pd\n",
    "import matplotlib.pyplot as plt\n"
   ]
  },
  {
   "cell_type": "code",
   "execution_count": 156,
   "metadata": {},
   "outputs": [],
   "source": [
    "df_desmatamento = pd.read_csv('backend/data/desmatamento_ucs.csv', sep=\";\", encoding = 'latin-1')\n",
    "df_queimadas = pd.read_csv('backend/data/areas_queimadas_uc.csv', sep=\";\", encoding = 'latin-1')\n",
    "df_metricas = pd.read_csv('backend/data/metricas_acoes_ucs_tratado.csv', sep=\";\", encoding = 'latin-1')\n",
    "df_metereologicos = pd.read_csv('backend/data/dados_metereologicos.csv', sep=\",\", encoding = 'utf-8')"
   ]
  },
  {
   "cell_type": "code",
   "execution_count": 157,
   "metadata": {},
   "outputs": [
    {
     "data": {
      "text/plain": [
       "115"
      ]
     },
     "execution_count": 157,
     "metadata": {},
     "output_type": "execute_result"
    }
   ],
   "source": [
    "df_metricas.merge(df_desmatamento, how=\"left\", left_on=\"cnuc\", right_on=\"codigo_da_uc\")[\"2008\"].count()"
   ]
  },
  {
   "cell_type": "code",
   "execution_count": 158,
   "metadata": {},
   "outputs": [
    {
     "data": {
      "text/plain": [
       "160"
      ]
     },
     "execution_count": 158,
     "metadata": {},
     "output_type": "execute_result"
    }
   ],
   "source": [
    "len(set(df_desmatamento[\"codigo_da_uc\"].sort_values().unique()) & set(df_metricas[\"cnuc\"].sort_values().unique()))"
   ]
  },
  {
   "cell_type": "code",
   "execution_count": 159,
   "metadata": {},
   "outputs": [
    {
     "data": {
      "text/html": [
       "<div>\n",
       "<style scoped>\n",
       "    .dataframe tbody tr th:only-of-type {\n",
       "        vertical-align: middle;\n",
       "    }\n",
       "\n",
       "    .dataframe tbody tr th {\n",
       "        vertical-align: top;\n",
       "    }\n",
       "\n",
       "    .dataframe thead th {\n",
       "        text-align: right;\n",
       "    }\n",
       "</style>\n",
       "<table border=\"1\" class=\"dataframe\">\n",
       "  <thead>\n",
       "    <tr style=\"text-align: right;\">\n",
       "      <th></th>\n",
       "      <th>nome_da_uc_x</th>\n",
       "      <th>nota_pessoal_mean</th>\n",
       "      <th>nota_pessoal_std</th>\n",
       "      <th>nota_equipamento_mean</th>\n",
       "      <th>nota_equipamento_std</th>\n",
       "      <th>nota_capacidade_mean</th>\n",
       "      <th>nota_capacidade_std</th>\n",
       "      <th>nota_recurso_mean</th>\n",
       "      <th>nota_recurso_std</th>\n",
       "      <th>nota_apoio_mean</th>\n",
       "      <th>...</th>\n",
       "      <th>area_estimada_da_uc_(ha)</th>\n",
       "      <th>bioma</th>\n",
       "      <th>area_queimada_em_2019</th>\n",
       "      <th>area_queimada_em_2018</th>\n",
       "      <th>area_queimada_em_2017</th>\n",
       "      <th>area_queimada_em_2016</th>\n",
       "      <th>area_queimada_em_2015</th>\n",
       "      <th>area_queimada_em_2014</th>\n",
       "      <th>area_queimada_em_2013</th>\n",
       "      <th>area_queimada_em_2012</th>\n",
       "    </tr>\n",
       "  </thead>\n",
       "  <tbody>\n",
       "    <tr>\n",
       "      <th>0</th>\n",
       "      <td>AREA DE PROTECAO AMBIENTAL CARSTE DA LAGOA SANTA</td>\n",
       "      <td>0.6000</td>\n",
       "      <td>0.210819</td>\n",
       "      <td>0.825000</td>\n",
       "      <td>0.205818</td>\n",
       "      <td>0.975000</td>\n",
       "      <td>0.079057</td>\n",
       "      <td>0.700000</td>\n",
       "      <td>0.307318</td>\n",
       "      <td>0.175000</td>\n",
       "      <td>...</td>\n",
       "      <td>39957</td>\n",
       "      <td>CERRADO</td>\n",
       "      <td>NaN</td>\n",
       "      <td>NaN</td>\n",
       "      <td>NaN</td>\n",
       "      <td>NaN</td>\n",
       "      <td>NaN</td>\n",
       "      <td>NaN</td>\n",
       "      <td>NaN</td>\n",
       "      <td>NaN</td>\n",
       "    </tr>\n",
       "    <tr>\n",
       "      <th>1</th>\n",
       "      <td>AREA DE PROTECAO AMBIENTAL CAVERNAS DO PERUACU</td>\n",
       "      <td>0.2875</td>\n",
       "      <td>0.091587</td>\n",
       "      <td>0.637500</td>\n",
       "      <td>0.189789</td>\n",
       "      <td>0.675000</td>\n",
       "      <td>0.200329</td>\n",
       "      <td>0.312500</td>\n",
       "      <td>0.267481</td>\n",
       "      <td>0.375000</td>\n",
       "      <td>...</td>\n",
       "      <td>143356</td>\n",
       "      <td>CERRADO</td>\n",
       "      <td>NaN</td>\n",
       "      <td>NaN</td>\n",
       "      <td>260.7</td>\n",
       "      <td>NaN</td>\n",
       "      <td>NaN</td>\n",
       "      <td>NaN</td>\n",
       "      <td>NaN</td>\n",
       "      <td>NaN</td>\n",
       "    </tr>\n",
       "    <tr>\n",
       "      <th>2</th>\n",
       "      <td>AREA DE PROTECAO AMBIENTAL DA BACIA DO RIO DES...</td>\n",
       "      <td>0.3125</td>\n",
       "      <td>0.155395</td>\n",
       "      <td>0.708333</td>\n",
       "      <td>0.097312</td>\n",
       "      <td>0.708333</td>\n",
       "      <td>0.144338</td>\n",
       "      <td>0.479167</td>\n",
       "      <td>0.270906</td>\n",
       "      <td>0.541667</td>\n",
       "      <td>...</td>\n",
       "      <td>41784</td>\n",
       "      <td>CERRADO</td>\n",
       "      <td>NaN</td>\n",
       "      <td>NaN</td>\n",
       "      <td>1585.4</td>\n",
       "      <td>NaN</td>\n",
       "      <td>NaN</td>\n",
       "      <td>NaN</td>\n",
       "      <td>NaN</td>\n",
       "      <td>NaN</td>\n",
       "    </tr>\n",
       "    <tr>\n",
       "      <th>3</th>\n",
       "      <td>AREA DE PROTECAO AMBIENTAL DA BACIA DO RIO SAO...</td>\n",
       "      <td>0.2500</td>\n",
       "      <td>NaN</td>\n",
       "      <td>0.000000</td>\n",
       "      <td>NaN</td>\n",
       "      <td>0.250000</td>\n",
       "      <td>NaN</td>\n",
       "      <td>0.000000</td>\n",
       "      <td>NaN</td>\n",
       "      <td>0.000000</td>\n",
       "      <td>...</td>\n",
       "      <td>82681</td>\n",
       "      <td>CERRADO</td>\n",
       "      <td>NaN</td>\n",
       "      <td>NaN</td>\n",
       "      <td>1620.0</td>\n",
       "      <td>NaN</td>\n",
       "      <td>NaN</td>\n",
       "      <td>NaN</td>\n",
       "      <td>NaN</td>\n",
       "      <td>NaN</td>\n",
       "    </tr>\n",
       "    <tr>\n",
       "      <th>4</th>\n",
       "      <td>AREA DE PROTECAO AMBIENTAL DAS NASCENTES DO RI...</td>\n",
       "      <td>0.5000</td>\n",
       "      <td>0.125000</td>\n",
       "      <td>0.944444</td>\n",
       "      <td>0.166667</td>\n",
       "      <td>0.722222</td>\n",
       "      <td>0.231990</td>\n",
       "      <td>0.722222</td>\n",
       "      <td>0.231990</td>\n",
       "      <td>0.444444</td>\n",
       "      <td>...</td>\n",
       "      <td>176324</td>\n",
       "      <td>CERRADO</td>\n",
       "      <td>NaN</td>\n",
       "      <td>NaN</td>\n",
       "      <td>7592.3</td>\n",
       "      <td>NaN</td>\n",
       "      <td>NaN</td>\n",
       "      <td>NaN</td>\n",
       "      <td>NaN</td>\n",
       "      <td>NaN</td>\n",
       "    </tr>\n",
       "  </tbody>\n",
       "</table>\n",
       "<p>5 rows × 62 columns</p>\n",
       "</div>"
      ],
      "text/plain": [
       "                                        nome_da_uc_x  nota_pessoal_mean  \\\n",
       "0   AREA DE PROTECAO AMBIENTAL CARSTE DA LAGOA SANTA             0.6000   \n",
       "1     AREA DE PROTECAO AMBIENTAL CAVERNAS DO PERUACU             0.2875   \n",
       "2  AREA DE PROTECAO AMBIENTAL DA BACIA DO RIO DES...             0.3125   \n",
       "3  AREA DE PROTECAO AMBIENTAL DA BACIA DO RIO SAO...             0.2500   \n",
       "4  AREA DE PROTECAO AMBIENTAL DAS NASCENTES DO RI...             0.5000   \n",
       "\n",
       "   nota_pessoal_std  nota_equipamento_mean  nota_equipamento_std  \\\n",
       "0          0.210819               0.825000              0.205818   \n",
       "1          0.091587               0.637500              0.189789   \n",
       "2          0.155395               0.708333              0.097312   \n",
       "3               NaN               0.000000                   NaN   \n",
       "4          0.125000               0.944444              0.166667   \n",
       "\n",
       "   nota_capacidade_mean  nota_capacidade_std  nota_recurso_mean  \\\n",
       "0              0.975000             0.079057           0.700000   \n",
       "1              0.675000             0.200329           0.312500   \n",
       "2              0.708333             0.144338           0.479167   \n",
       "3              0.250000                  NaN           0.000000   \n",
       "4              0.722222             0.231990           0.722222   \n",
       "\n",
       "   nota_recurso_std  nota_apoio_mean  ...  area_estimada_da_uc_(ha)    bioma  \\\n",
       "0          0.307318         0.175000  ...                     39957  CERRADO   \n",
       "1          0.267481         0.375000  ...                    143356  CERRADO   \n",
       "2          0.270906         0.541667  ...                     41784  CERRADO   \n",
       "3               NaN         0.000000  ...                     82681  CERRADO   \n",
       "4          0.231990         0.444444  ...                    176324  CERRADO   \n",
       "\n",
       "  area_queimada_em_2019  area_queimada_em_2018  area_queimada_em_2017  \\\n",
       "0                   NaN                    NaN                    NaN   \n",
       "1                   NaN                    NaN                  260.7   \n",
       "2                   NaN                    NaN                 1585.4   \n",
       "3                   NaN                    NaN                 1620.0   \n",
       "4                   NaN                    NaN                 7592.3   \n",
       "\n",
       "   area_queimada_em_2016 area_queimada_em_2015 area_queimada_em_2014  \\\n",
       "0                    NaN                   NaN                   NaN   \n",
       "1                    NaN                   NaN                   NaN   \n",
       "2                    NaN                   NaN                   NaN   \n",
       "3                    NaN                   NaN                   NaN   \n",
       "4                    NaN                   NaN                   NaN   \n",
       "\n",
       "  area_queimada_em_2013  area_queimada_em_2012  \n",
       "0                   NaN                    NaN  \n",
       "1                   NaN                    NaN  \n",
       "2                   NaN                    NaN  \n",
       "3                   NaN                    NaN  \n",
       "4                   NaN                    NaN  \n",
       "\n",
       "[5 rows x 62 columns]"
      ]
     },
     "execution_count": 159,
     "metadata": {},
     "output_type": "execute_result"
    }
   ],
   "source": [
    "df_compilado = df_metricas.merge(df_desmatamento, left_on=\"cnuc\", right_on=\"codigo_da_uc\").merge(df_queimadas, left_on=\"cnuc\", right_on=\"codigo_cnuc\")\n",
    "df_compilado.head()"
   ]
  },
  {
   "cell_type": "code",
   "execution_count": 160,
   "metadata": {},
   "outputs": [
    {
     "data": {
      "text/plain": [
       "Index(['nome_da_uc_x', 'nota_pessoal_mean', 'nota_pessoal_std',\n",
       "       'nota_equipamento_mean', 'nota_equipamento_std', 'nota_capacidade_mean',\n",
       "       'nota_capacidade_std', 'nota_recurso_mean', 'nota_recurso_std',\n",
       "       'nota_apoio_mean', 'nota_apoio_std', 'cnuc', 'bioma_x',\n",
       "       'calculo_efetividade_mean', 'calculo_efetividade_std', 'Unnamed: 0_x',\n",
       "       'codigo_da_uc', 'nome_da_uc_y', 'grupo', 'criacao', 'area_geo',\n",
       "       'bioma_y', '2020', '2019', '2018', '2017', '2016', '2015', '2014',\n",
       "       '2013', '2012', '2011', '2010', '2009', '2008', '2007', '2006', '2005',\n",
       "       '2004', '2003', '2002', '2001', '2000', 'acum 1997', 'Unnamed: 0_y',\n",
       "       'codigo_cnuc', 'nome_da_uc', 'categoria_da_uc:_sigla_federal',\n",
       "       'categoria_da_uc:_nomenclatura_nacional', 'grupo_de_protecao',\n",
       "       'ano_de_criacao', 'coordenacao_regional_do_icmbio',\n",
       "       'area_estimada_da_uc_(ha)', 'bioma', 'area_queimada_em_2019',\n",
       "       'area_queimada_em_2018', 'area_queimada_em_2017',\n",
       "       'area_queimada_em_2016', 'area_queimada_em_2015',\n",
       "       'area_queimada_em_2014', 'area_queimada_em_2013',\n",
       "       'area_queimada_em_2012'],\n",
       "      dtype='object')"
      ]
     },
     "execution_count": 160,
     "metadata": {},
     "output_type": "execute_result"
    }
   ],
   "source": [
    "df_compilado.columns"
   ]
  },
  {
   "cell_type": "code",
   "execution_count": 161,
   "metadata": {},
   "outputs": [
    {
     "data": {
      "image/png": "[encoded data removed]",
      "text/plain": [
       "<Figure size 432x288 with 1 Axes>"
      ]
     },
     "metadata": {
      "needs_background": "light"
     },
     "output_type": "display_data"
    }
   ],
   "source": [
    "plt.scatter(df_compilado[\"area_queimada_em_2016\"], df_compilado[\"nota_pessoal_mean\"], alpha=0.5)\n",
    "plt.xlim([0, 20000])\n",
    "plt.show()"
   ]
  },
  {
   "cell_type": "markdown",
   "metadata": {},
   "source": [
    "## ANÁLISE METEREOLÓGICO"
   ]
  },
  {
   "cell_type": "code",
   "execution_count": 162,
   "metadata": {},
   "outputs": [
    {
     "data": {
      "text/plain": [
       "Index(['Unnamed: 0', 'mes', 'precipitacao_(mm)', 'pressao_atm_(mB)',\n",
       "       'pressao_atm_max_hora_ant_(mB)', 'pressao_atm_min_hora_ant_(mB)',\n",
       "       'temperatura_do_ar_(graus)', 'temperatura_do_ponto_de_orvalho_(graus)',\n",
       "       'temperatura_max_hora_ant_(graus)', 'temperatura_min_hora_ant_(graus)',\n",
       "       'temperatura_orvalho_max_hora_ant_(graus)',\n",
       "       'temperatura_orvalho_min_hora_ant_(graus)',\n",
       "       'umidade_relativa_max_hora_ant(%)', 'umidade_relativa_min_hora_ant(%)',\n",
       "       'umidade_relativa_do_ar_(%)', 'vento_direcao_horaria',\n",
       "       'vento_rajada_maxima_(m/s)', 'vento_velocidade_horaria_(m/s)',\n",
       "       'estacao', 'latitude', 'longitude', 'uf', 'ano', 'uc', 'distancia_uc',\n",
       "       'cod_uc'],\n",
       "      dtype='object')"
      ]
     },
     "execution_count": 162,
     "metadata": {},
     "output_type": "execute_result"
    }
   ],
   "source": [
    "df_metereologicos.columns"
   ]
  },
  {
   "cell_type": "code",
   "execution_count": 202,
   "metadata": {},
   "outputs": [],
   "source": [
    "df_metereologicos[\"ano_mes\"] = df_metereologicos[\"ano\"].astype(str) + '/' + [('%02d' % mes) for mes in df_metereologicos[\"mes\"]]"
   ]
  },
  {
   "cell_type": "code",
   "execution_count": 203,
   "metadata": {},
   "outputs": [],
   "source": [
    "df_metricas[\"nome_da_uc\"] = [ text.replace(' ', '_') for text in df_metricas[\"nome_da_uc\"] ]"
   ]
  },
  {
   "cell_type": "code",
   "execution_count": 204,
   "metadata": {},
   "outputs": [],
   "source": [
    "df_metricas_metereologicos = df_metricas.merge(df_metereologicos, left_on=\"cnuc\", right_on=\"cod_uc\")"
   ]
  },
  {
   "cell_type": "code",
   "execution_count": 205,
   "metadata": {},
   "outputs": [],
   "source": [
    "df_precipitacao_mes = df_metricas_metereologicos[df_metricas_metereologicos[\"cod_uc\"] == \"0000.00.0003\"][[\"ano\", \"mes\", \"ano_mes\", \"precipitacao_(mm)\"]]"
   ]
  },
  {
   "cell_type": "code",
   "execution_count": 206,
   "metadata": {},
   "outputs": [
    {
     "data": {
      "text/plain": [
       "<AxesSubplot:>"
      ]
     },
     "execution_count": 206,
     "metadata": {},
     "output_type": "execute_result"
    },
    {
     "data": {
      "text/plain": [
       "<Figure size 1500x600 with 0 Axes>"
      ]
     },
     "metadata": {},
     "output_type": "display_data"
    },
    {
     "data": {
      "image/png": "[encoded data removed]",
      "text/plain": [
       "<Figure size 432x288 with 1 Axes>"
      ]
     },
     "metadata": {
      "needs_background": "light"
     },
     "output_type": "display_data"
    }
   ],
   "source": [
    "%matplotlib inline\n",
    "from matplotlib.pyplot import figure\n",
    "figure(figsize=(15, 6), dpi=100)\n",
    "\n",
    "df_precipitacao_mes[df_precipitacao_mes[\"ano\"] == 2018][[\"ano_mes\", \"precipitacao_(mm)\"]].plot()\n"
   ]
  },
  {
   "cell_type": "markdown",
   "metadata": {},
   "source": [
    "Geração dos dados para grafico"
   ]
  },
  {
   "cell_type": "code",
   "execution_count": 211,
   "metadata": {},
   "outputs": [],
   "source": [
    "df_precipitacao = df_metricas_metereologicos[[\"uc\", \"cod_uc\", \"ano\", \"mes\", \"ano_mes\", \"precipitacao_(mm)\"]].sort_values(\"ano_mes\")"
   ]
  },
  {
   "cell_type": "code",
   "execution_count": 213,
   "metadata": {},
   "outputs": [],
   "source": [
    "df_precipitacao.to_csv('backend/data/precipitacao_por_ano_mes.csv', index=False, sep=\";\", encoding = 'utf-8')"
   ]
  },
  {
   "cell_type": "code",
   "execution_count": 15,
   "metadata": {},
   "outputs": [
    {
     "data": {
      "text/plain": [
       "[1186.1,\n",
       " 1186.1,\n",
       " 2091.4,\n",
       " 2091.4,\n",
       " 997.1,\n",
       " 997.1,\n",
       " 1730.6,\n",
       " 1730.6,\n",
       " 568.8,\n",
       " 568.8,\n",
       " 573.4,\n",
       " 573.4,\n",
       " 581.7,\n",
       " 1201.1,\n",
       " 660.8,\n",
       " 527.8,\n",
       " 502.1,\n",
       " 894.0,\n",
       " 639.2,\n",
       " 549.8499]"
      ]
     },
     "execution_count": 15,
     "metadata": {},
     "output_type": "execute_result"
    }
   ],
   "source": [
    "df = pd.read_csv(\"backend/data/desmatamento_ucs.csv\", sep=';')\n",
    "uc = \"RESERVA EXTRATIVISTA RIO IRIRI\"\n",
    "df = df.fillna(0)\n",
    "x = list(range(2001, 2021))\n",
    "years = [str(year) for year in x]\n",
    "y = []\n",
    "for year in years:\n",
    "    y.append(df.loc[df[\"nome_da_uc\"] == uc, year].values)\n"
   ]
  }
 ],
 "metadata": {
  "interpreter": {
   "hash": "1303cee7724a90c31683467cfddbb82745546f6ba1117e9ec2e9980d5542e525"
  },
  "kernelspec": {
   "display_name": "Python 3.8.8 64-bit (conda)",
   "language": "python",
   "name": "python3"
  },
  "language_info": {
   "codemirror_mode": {
    "name": "ipython",
    "version": 3
   },
   "file_extension": ".py",
   "mimetype": "text/x-python",
   "name": "python",
   "nbconvert_exporter": "python",
   "pygments_lexer": "ipython3",
   "version": "3.8.8"
  },
  "orig_nbformat": 4
 },
 "nbformat": 4,
 "nbformat_minor": 2
}
